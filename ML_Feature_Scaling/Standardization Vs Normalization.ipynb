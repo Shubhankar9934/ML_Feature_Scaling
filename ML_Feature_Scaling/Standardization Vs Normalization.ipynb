{
 "cells": [
  {
   "cell_type": "markdown",
   "id": "abf9ed8a",
   "metadata": {},
   "source": [
    "# What is Standardization ?"
   ]
  },
  {
   "cell_type": "raw",
   "id": "342e941c",
   "metadata": {},
   "source": [
    "Standardisation rescale the feature such as mean(μ) = 0 and \n",
    "standard deviation(σ) =1."
   ]
  },
  {
   "cell_type": "raw",
   "id": "f559ed41",
   "metadata": {},
   "source": [
    "The result Of Standardisation is Z called as Z-score normalization.\n",
    "Standardized value (Z)= X – μ / σ"
   ]
  },
  {
   "cell_type": "raw",
   "id": "22ca5810",
   "metadata": {},
   "source": [
    "If data follow normal distribution (gaussion distribution) then mostly we use \n",
    "Standardisation."
   ]
  },
  {
   "cell_type": "raw",
   "id": "82229268",
   "metadata": {},
   "source": [
    "If the Original Distribution is Normal , then The Standardised distribution \n",
    "will be normal."
   ]
  },
  {
   "cell_type": "raw",
   "id": "501b5498",
   "metadata": {},
   "source": [
    "if the original distribution is skewed , then the standardised distribution \n",
    "of the variable will also be skewed. (Z)= X – μ / σ."
   ]
  },
  {
   "cell_type": "markdown",
   "id": "48b6ea88",
   "metadata": {},
   "source": [
    "# What is Normalization ?"
   ]
  },
  {
   "cell_type": "raw",
   "id": "3c85487c",
   "metadata": {},
   "source": [
    "Normalization rescale the feature in fixed range 0 to 1.\n",
    "x normalized = (x – x minimum) / (x maximum – x minimum)."
   ]
  },
  {
   "cell_type": "raw",
   "id": "8013df57",
   "metadata": {},
   "source": [
    "Normalization also called as Min- Max Scaling."
   ]
  },
  {
   "cell_type": "raw",
   "id": "7387ec37",
   "metadata": {},
   "source": [
    "If the data doesn't follow normal distribution(Gaussian distribution) then\n",
    "we focus more upon normal scaling."
   ]
  },
  {
   "cell_type": "markdown",
   "id": "eefc0ad0",
   "metadata": {},
   "source": [
    "# Standardization vs Normalization ?"
   ]
  },
  {
   "cell_type": "raw",
   "id": "bc2cf89d",
   "metadata": {},
   "source": [
    "* There is no any thumb rule to use Standardization or Normalization\n",
    "for special ML algo."
   ]
  },
  {
   "cell_type": "raw",
   "id": "e70d2048",
   "metadata": {},
   "source": [
    "* But mostly Standardization use for clustering analyses , principal Component\n",
    " Analysis(PCA)"
   ]
  },
  {
   "cell_type": "raw",
   "id": "1b13bbeb",
   "metadata": {},
   "source": [
    "Normalization prefer for image processing because pixel intensity\n",
    "between 0 to 255 , neural network algorithm require data in scale 0-1,\n",
    "K-Nearest Neighbors."
   ]
  },
  {
   "cell_type": "markdown",
   "id": "9daad556",
   "metadata": {},
   "source": [
    "# Feature Scaling: \n",
    "Standardization and Normalization"
   ]
  },
  {
   "cell_type": "code",
   "execution_count": 13,
   "id": "d29da6bf",
   "metadata": {},
   "outputs": [],
   "source": [
    "import pandas as pd\n",
    "import numpy as np\n",
    "import seaborn as sns\n",
    "from sklearn.preprocessing import StandardScaler\n",
    "from sklearn.preprocessing import MinMaxScaler\n",
    "from sklearn.model_selection import train_test_split"
   ]
  },
  {
   "cell_type": "code",
   "execution_count": 14,
   "id": "48886026",
   "metadata": {},
   "outputs": [
    {
     "data": {
      "text/html": [
       "<div>\n",
       "<style scoped>\n",
       "    .dataframe tbody tr th:only-of-type {\n",
       "        vertical-align: middle;\n",
       "    }\n",
       "\n",
       "    .dataframe tbody tr th {\n",
       "        vertical-align: top;\n",
       "    }\n",
       "\n",
       "    .dataframe thead th {\n",
       "        text-align: right;\n",
       "    }\n",
       "</style>\n",
       "<table border=\"1\" class=\"dataframe\">\n",
       "  <thead>\n",
       "    <tr style=\"text-align: right;\">\n",
       "      <th></th>\n",
       "      <th>survived</th>\n",
       "      <th>pclass</th>\n",
       "      <th>sex</th>\n",
       "      <th>age</th>\n",
       "      <th>sibsp</th>\n",
       "      <th>parch</th>\n",
       "      <th>fare</th>\n",
       "      <th>embarked</th>\n",
       "      <th>class</th>\n",
       "      <th>who</th>\n",
       "      <th>adult_male</th>\n",
       "      <th>deck</th>\n",
       "      <th>embark_town</th>\n",
       "      <th>alive</th>\n",
       "      <th>alone</th>\n",
       "    </tr>\n",
       "  </thead>\n",
       "  <tbody>\n",
       "    <tr>\n",
       "      <th>0</th>\n",
       "      <td>0</td>\n",
       "      <td>3</td>\n",
       "      <td>male</td>\n",
       "      <td>22.0</td>\n",
       "      <td>1</td>\n",
       "      <td>0</td>\n",
       "      <td>7.2500</td>\n",
       "      <td>S</td>\n",
       "      <td>Third</td>\n",
       "      <td>man</td>\n",
       "      <td>True</td>\n",
       "      <td>NaN</td>\n",
       "      <td>Southampton</td>\n",
       "      <td>no</td>\n",
       "      <td>False</td>\n",
       "    </tr>\n",
       "    <tr>\n",
       "      <th>1</th>\n",
       "      <td>1</td>\n",
       "      <td>1</td>\n",
       "      <td>female</td>\n",
       "      <td>38.0</td>\n",
       "      <td>1</td>\n",
       "      <td>0</td>\n",
       "      <td>71.2833</td>\n",
       "      <td>C</td>\n",
       "      <td>First</td>\n",
       "      <td>woman</td>\n",
       "      <td>False</td>\n",
       "      <td>C</td>\n",
       "      <td>Cherbourg</td>\n",
       "      <td>yes</td>\n",
       "      <td>False</td>\n",
       "    </tr>\n",
       "    <tr>\n",
       "      <th>2</th>\n",
       "      <td>1</td>\n",
       "      <td>3</td>\n",
       "      <td>female</td>\n",
       "      <td>26.0</td>\n",
       "      <td>0</td>\n",
       "      <td>0</td>\n",
       "      <td>7.9250</td>\n",
       "      <td>S</td>\n",
       "      <td>Third</td>\n",
       "      <td>woman</td>\n",
       "      <td>False</td>\n",
       "      <td>NaN</td>\n",
       "      <td>Southampton</td>\n",
       "      <td>yes</td>\n",
       "      <td>True</td>\n",
       "    </tr>\n",
       "    <tr>\n",
       "      <th>3</th>\n",
       "      <td>1</td>\n",
       "      <td>1</td>\n",
       "      <td>female</td>\n",
       "      <td>35.0</td>\n",
       "      <td>1</td>\n",
       "      <td>0</td>\n",
       "      <td>53.1000</td>\n",
       "      <td>S</td>\n",
       "      <td>First</td>\n",
       "      <td>woman</td>\n",
       "      <td>False</td>\n",
       "      <td>C</td>\n",
       "      <td>Southampton</td>\n",
       "      <td>yes</td>\n",
       "      <td>False</td>\n",
       "    </tr>\n",
       "    <tr>\n",
       "      <th>4</th>\n",
       "      <td>0</td>\n",
       "      <td>3</td>\n",
       "      <td>male</td>\n",
       "      <td>35.0</td>\n",
       "      <td>0</td>\n",
       "      <td>0</td>\n",
       "      <td>8.0500</td>\n",
       "      <td>S</td>\n",
       "      <td>Third</td>\n",
       "      <td>man</td>\n",
       "      <td>True</td>\n",
       "      <td>NaN</td>\n",
       "      <td>Southampton</td>\n",
       "      <td>no</td>\n",
       "      <td>True</td>\n",
       "    </tr>\n",
       "  </tbody>\n",
       "</table>\n",
       "</div>"
      ],
      "text/plain": [
       "   survived  pclass     sex   age  sibsp  parch     fare embarked  class  \\\n",
       "0         0       3    male  22.0      1      0   7.2500        S  Third   \n",
       "1         1       1  female  38.0      1      0  71.2833        C  First   \n",
       "2         1       3  female  26.0      0      0   7.9250        S  Third   \n",
       "3         1       1  female  35.0      1      0  53.1000        S  First   \n",
       "4         0       3    male  35.0      0      0   8.0500        S  Third   \n",
       "\n",
       "     who  adult_male deck  embark_town alive  alone  \n",
       "0    man        True  NaN  Southampton    no  False  \n",
       "1  woman       False    C    Cherbourg   yes  False  \n",
       "2  woman       False  NaN  Southampton   yes   True  \n",
       "3  woman       False    C  Southampton   yes  False  \n",
       "4    man        True  NaN  Southampton    no   True  "
      ]
     },
     "execution_count": 14,
     "metadata": {},
     "output_type": "execute_result"
    }
   ],
   "source": [
    "df = sns.load_dataset(\"titanic\")\n",
    "df.head()"
   ]
  },
  {
   "cell_type": "code",
   "execution_count": 15,
   "id": "bd936487",
   "metadata": {},
   "outputs": [
    {
     "data": {
      "text/html": [
       "<div>\n",
       "<style scoped>\n",
       "    .dataframe tbody tr th:only-of-type {\n",
       "        vertical-align: middle;\n",
       "    }\n",
       "\n",
       "    .dataframe tbody tr th {\n",
       "        vertical-align: top;\n",
       "    }\n",
       "\n",
       "    .dataframe thead th {\n",
       "        text-align: right;\n",
       "    }\n",
       "</style>\n",
       "<table border=\"1\" class=\"dataframe\">\n",
       "  <thead>\n",
       "    <tr style=\"text-align: right;\">\n",
       "      <th></th>\n",
       "      <th>survived</th>\n",
       "      <th>pclass</th>\n",
       "      <th>age</th>\n",
       "      <th>parch</th>\n",
       "    </tr>\n",
       "  </thead>\n",
       "  <tbody>\n",
       "    <tr>\n",
       "      <th>0</th>\n",
       "      <td>0</td>\n",
       "      <td>3</td>\n",
       "      <td>22.0</td>\n",
       "      <td>0</td>\n",
       "    </tr>\n",
       "    <tr>\n",
       "      <th>1</th>\n",
       "      <td>1</td>\n",
       "      <td>1</td>\n",
       "      <td>38.0</td>\n",
       "      <td>0</td>\n",
       "    </tr>\n",
       "    <tr>\n",
       "      <th>2</th>\n",
       "      <td>1</td>\n",
       "      <td>3</td>\n",
       "      <td>26.0</td>\n",
       "      <td>0</td>\n",
       "    </tr>\n",
       "    <tr>\n",
       "      <th>3</th>\n",
       "      <td>1</td>\n",
       "      <td>1</td>\n",
       "      <td>35.0</td>\n",
       "      <td>0</td>\n",
       "    </tr>\n",
       "    <tr>\n",
       "      <th>4</th>\n",
       "      <td>0</td>\n",
       "      <td>3</td>\n",
       "      <td>35.0</td>\n",
       "      <td>0</td>\n",
       "    </tr>\n",
       "  </tbody>\n",
       "</table>\n",
       "</div>"
      ],
      "text/plain": [
       "   survived  pclass   age  parch\n",
       "0         0       3  22.0      0\n",
       "1         1       1  38.0      0\n",
       "2         1       3  26.0      0\n",
       "3         1       1  35.0      0\n",
       "4         0       3  35.0      0"
      ]
     },
     "execution_count": 15,
     "metadata": {},
     "output_type": "execute_result"
    }
   ],
   "source": [
    "df2 = df[['survived','pclass','age','parch']]\n",
    "df2.head()"
   ]
  },
  {
   "cell_type": "code",
   "execution_count": 16,
   "id": "b10413e2",
   "metadata": {},
   "outputs": [],
   "source": [
    "df3 = df2.fillna(df2.mean())"
   ]
  },
  {
   "cell_type": "code",
   "execution_count": 17,
   "id": "caec2484",
   "metadata": {},
   "outputs": [
    {
     "data": {
      "text/html": [
       "<div>\n",
       "<style scoped>\n",
       "    .dataframe tbody tr th:only-of-type {\n",
       "        vertical-align: middle;\n",
       "    }\n",
       "\n",
       "    .dataframe tbody tr th {\n",
       "        vertical-align: top;\n",
       "    }\n",
       "\n",
       "    .dataframe thead th {\n",
       "        text-align: right;\n",
       "    }\n",
       "</style>\n",
       "<table border=\"1\" class=\"dataframe\">\n",
       "  <thead>\n",
       "    <tr style=\"text-align: right;\">\n",
       "      <th></th>\n",
       "      <th>survived</th>\n",
       "      <th>pclass</th>\n",
       "      <th>age</th>\n",
       "      <th>parch</th>\n",
       "    </tr>\n",
       "  </thead>\n",
       "  <tbody>\n",
       "    <tr>\n",
       "      <th>0</th>\n",
       "      <td>0</td>\n",
       "      <td>3</td>\n",
       "      <td>22.0</td>\n",
       "      <td>0</td>\n",
       "    </tr>\n",
       "    <tr>\n",
       "      <th>1</th>\n",
       "      <td>1</td>\n",
       "      <td>1</td>\n",
       "      <td>38.0</td>\n",
       "      <td>0</td>\n",
       "    </tr>\n",
       "    <tr>\n",
       "      <th>2</th>\n",
       "      <td>1</td>\n",
       "      <td>3</td>\n",
       "      <td>26.0</td>\n",
       "      <td>0</td>\n",
       "    </tr>\n",
       "    <tr>\n",
       "      <th>3</th>\n",
       "      <td>1</td>\n",
       "      <td>1</td>\n",
       "      <td>35.0</td>\n",
       "      <td>0</td>\n",
       "    </tr>\n",
       "    <tr>\n",
       "      <th>4</th>\n",
       "      <td>0</td>\n",
       "      <td>3</td>\n",
       "      <td>35.0</td>\n",
       "      <td>0</td>\n",
       "    </tr>\n",
       "  </tbody>\n",
       "</table>\n",
       "</div>"
      ],
      "text/plain": [
       "   survived  pclass   age  parch\n",
       "0         0       3  22.0      0\n",
       "1         1       1  38.0      0\n",
       "2         1       3  26.0      0\n",
       "3         1       1  35.0      0\n",
       "4         0       3  35.0      0"
      ]
     },
     "execution_count": 17,
     "metadata": {},
     "output_type": "execute_result"
    }
   ],
   "source": [
    "df3.head()"
   ]
  },
  {
   "cell_type": "code",
   "execution_count": 18,
   "id": "d605b042",
   "metadata": {},
   "outputs": [
    {
     "name": "stdout",
     "output_type": "stream",
     "text": [
      "Shape of X =  (891, 3)\n",
      "Shape of y =  (891,)\n"
     ]
    }
   ],
   "source": [
    "X = df3.drop(\"survived\",axis = 1)\n",
    "y = df3[\"survived\"]\n",
    "\n",
    "print(\"Shape of X = \",X.shape)\n",
    "print(\"Shape of y = \",y.shape)"
   ]
  },
  {
   "cell_type": "code",
   "execution_count": 22,
   "id": "2dc1dd17",
   "metadata": {},
   "outputs": [
    {
     "name": "stdout",
     "output_type": "stream",
     "text": [
      "Shape of X_train =  (712, 3)\n",
      "Shape of y_train =  (712,)\n",
      "Shape of X_test =  (179, 3)\n",
      "Shape of y_test =  (179,)\n"
     ]
    }
   ],
   "source": [
    "X_train , X_test , y_train, y_test = train_test_split(\n",
    "                                    X,y,\n",
    "                                        test_size=0.2,                                       train_size=None,\n",
    "                                        random_state=51,\n",
    "                                        shuffle=True,\n",
    "                                        stratify=None,)\n",
    "print(\"Shape of X_train = \",X_train.shape)\n",
    "print(\"Shape of y_train = \",y_train.shape)\n",
    "print(\"Shape of X_test = \",X_test.shape)\n",
    "print(\"Shape of y_test = \",y_test.shape)"
   ]
  },
  {
   "cell_type": "code",
   "execution_count": 24,
   "id": "35e69c99",
   "metadata": {},
   "outputs": [
    {
     "data": {
      "text/plain": [
       "StandardScaler()"
      ]
     },
     "execution_count": 24,
     "metadata": {},
     "output_type": "execute_result"
    }
   ],
   "source": [
    "sc = StandardScaler()\n",
    "sc.fit((X_train))"
   ]
  },
  {
   "cell_type": "code",
   "execution_count": 25,
   "id": "b96b412d",
   "metadata": {},
   "outputs": [
    {
     "data": {
      "text/plain": [
       "array([ 2.30617978, 29.55409121,  0.39185393])"
      ]
     },
     "execution_count": 25,
     "metadata": {},
     "output_type": "execute_result"
    }
   ],
   "source": [
    "sc.mean_"
   ]
  },
  {
   "cell_type": "code",
   "execution_count": 26,
   "id": "6cbac729",
   "metadata": {},
   "outputs": [
    {
     "data": {
      "text/plain": [
       "array([ 0.84405789, 12.99162985,  0.79647463])"
      ]
     },
     "execution_count": 26,
     "metadata": {},
     "output_type": "execute_result"
    }
   ],
   "source": [
    "sc.scale_"
   ]
  },
  {
   "cell_type": "code",
   "execution_count": 27,
   "id": "26bbbb55",
   "metadata": {},
   "outputs": [
    {
     "data": {
      "text/html": [
       "<div>\n",
       "<style scoped>\n",
       "    .dataframe tbody tr th:only-of-type {\n",
       "        vertical-align: middle;\n",
       "    }\n",
       "\n",
       "    .dataframe tbody tr th {\n",
       "        vertical-align: top;\n",
       "    }\n",
       "\n",
       "    .dataframe thead th {\n",
       "        text-align: right;\n",
       "    }\n",
       "</style>\n",
       "<table border=\"1\" class=\"dataframe\">\n",
       "  <thead>\n",
       "    <tr style=\"text-align: right;\">\n",
       "      <th></th>\n",
       "      <th>pclass</th>\n",
       "      <th>age</th>\n",
       "      <th>parch</th>\n",
       "    </tr>\n",
       "  </thead>\n",
       "  <tbody>\n",
       "    <tr>\n",
       "      <th>count</th>\n",
       "      <td>712.000000</td>\n",
       "      <td>712.000000</td>\n",
       "      <td>712.000000</td>\n",
       "    </tr>\n",
       "    <tr>\n",
       "      <th>mean</th>\n",
       "      <td>2.306180</td>\n",
       "      <td>29.554091</td>\n",
       "      <td>0.391854</td>\n",
       "    </tr>\n",
       "    <tr>\n",
       "      <th>std</th>\n",
       "      <td>0.844651</td>\n",
       "      <td>13.000763</td>\n",
       "      <td>0.797035</td>\n",
       "    </tr>\n",
       "    <tr>\n",
       "      <th>min</th>\n",
       "      <td>1.000000</td>\n",
       "      <td>0.420000</td>\n",
       "      <td>0.000000</td>\n",
       "    </tr>\n",
       "    <tr>\n",
       "      <th>25%</th>\n",
       "      <td>1.750000</td>\n",
       "      <td>22.000000</td>\n",
       "      <td>0.000000</td>\n",
       "    </tr>\n",
       "    <tr>\n",
       "      <th>50%</th>\n",
       "      <td>3.000000</td>\n",
       "      <td>29.699118</td>\n",
       "      <td>0.000000</td>\n",
       "    </tr>\n",
       "    <tr>\n",
       "      <th>75%</th>\n",
       "      <td>3.000000</td>\n",
       "      <td>35.000000</td>\n",
       "      <td>0.000000</td>\n",
       "    </tr>\n",
       "    <tr>\n",
       "      <th>max</th>\n",
       "      <td>3.000000</td>\n",
       "      <td>71.000000</td>\n",
       "      <td>5.000000</td>\n",
       "    </tr>\n",
       "  </tbody>\n",
       "</table>\n",
       "</div>"
      ],
      "text/plain": [
       "           pclass         age       parch\n",
       "count  712.000000  712.000000  712.000000\n",
       "mean     2.306180   29.554091    0.391854\n",
       "std      0.844651   13.000763    0.797035\n",
       "min      1.000000    0.420000    0.000000\n",
       "25%      1.750000   22.000000    0.000000\n",
       "50%      3.000000   29.699118    0.000000\n",
       "75%      3.000000   35.000000    0.000000\n",
       "max      3.000000   71.000000    5.000000"
      ]
     },
     "execution_count": 27,
     "metadata": {},
     "output_type": "execute_result"
    }
   ],
   "source": [
    "X_train.describe()"
   ]
  },
  {
   "cell_type": "code",
   "execution_count": 31,
   "id": "eb955a6a",
   "metadata": {},
   "outputs": [
    {
     "name": "stderr",
     "output_type": "stream",
     "text": [
      "C:\\Users\\shubh\\anaconda3\\lib\\site-packages\\sklearn\\base.py:450: UserWarning: X does not have valid feature names, but StandardScaler was fitted with feature names\n",
      "  warnings.warn(\n",
      "C:\\Users\\shubh\\anaconda3\\lib\\site-packages\\sklearn\\base.py:450: UserWarning: X does not have valid feature names, but StandardScaler was fitted with feature names\n",
      "  warnings.warn(\n"
     ]
    }
   ],
   "source": [
    "X_train_sc = sc.transform(X_train)\n",
    "X_test_sc = sc.transform(X_test)"
   ]
  },
  {
   "cell_type": "code",
   "execution_count": 32,
   "id": "49802a74",
   "metadata": {},
   "outputs": [
    {
     "data": {
      "text/plain": [
       "array([[-1.75837972, -2.30776312, -1.1096893 ],\n",
       "       [-1.75837972, -2.12113234, -1.1096893 ],\n",
       "       [-1.75837972, -2.38478535, -1.1096893 ],\n",
       "       ...,\n",
       "       [-1.75837972, -2.16556824,  3.61939826],\n",
       "       [-1.75837972, -2.27399706,  0.46667322],\n",
       "       [-1.75837972, -2.28110158, -1.1096893 ]])"
      ]
     },
     "execution_count": 32,
     "metadata": {},
     "output_type": "execute_result"
    }
   ],
   "source": [
    "X_train_sc"
   ]
  },
  {
   "cell_type": "code",
   "execution_count": 34,
   "id": "47b44864",
   "metadata": {},
   "outputs": [],
   "source": [
    "#X_test_sc"
   ]
  },
  {
   "cell_type": "code",
   "execution_count": 35,
   "id": "3e75da3c",
   "metadata": {},
   "outputs": [],
   "source": [
    "X_train_sc = pd.DataFrame(X_train_sc, columns = [\"pclass\",'age','parch'])\n",
    "X_test_sc =  pd.DataFrame(X_test_sc, columns = [\"pclass\",'age','parch'])"
   ]
  },
  {
   "cell_type": "code",
   "execution_count": 36,
   "id": "08ae326d",
   "metadata": {},
   "outputs": [
    {
     "data": {
      "text/html": [
       "<div>\n",
       "<style scoped>\n",
       "    .dataframe tbody tr th:only-of-type {\n",
       "        vertical-align: middle;\n",
       "    }\n",
       "\n",
       "    .dataframe tbody tr th {\n",
       "        vertical-align: top;\n",
       "    }\n",
       "\n",
       "    .dataframe thead th {\n",
       "        text-align: right;\n",
       "    }\n",
       "</style>\n",
       "<table border=\"1\" class=\"dataframe\">\n",
       "  <thead>\n",
       "    <tr style=\"text-align: right;\">\n",
       "      <th></th>\n",
       "      <th>pclass</th>\n",
       "      <th>age</th>\n",
       "      <th>parch</th>\n",
       "    </tr>\n",
       "  </thead>\n",
       "  <tbody>\n",
       "    <tr>\n",
       "      <th>0</th>\n",
       "      <td>-1.75838</td>\n",
       "      <td>-2.307763</td>\n",
       "      <td>-1.109689</td>\n",
       "    </tr>\n",
       "    <tr>\n",
       "      <th>1</th>\n",
       "      <td>-1.75838</td>\n",
       "      <td>-2.121132</td>\n",
       "      <td>-1.109689</td>\n",
       "    </tr>\n",
       "    <tr>\n",
       "      <th>2</th>\n",
       "      <td>-1.75838</td>\n",
       "      <td>-2.384785</td>\n",
       "      <td>-1.109689</td>\n",
       "    </tr>\n",
       "    <tr>\n",
       "      <th>3</th>\n",
       "      <td>-1.75838</td>\n",
       "      <td>-2.343312</td>\n",
       "      <td>-1.109689</td>\n",
       "    </tr>\n",
       "    <tr>\n",
       "      <th>4</th>\n",
       "      <td>-1.75838</td>\n",
       "      <td>-2.273997</td>\n",
       "      <td>2.043036</td>\n",
       "    </tr>\n",
       "  </tbody>\n",
       "</table>\n",
       "</div>"
      ],
      "text/plain": [
       "    pclass       age     parch\n",
       "0 -1.75838 -2.307763 -1.109689\n",
       "1 -1.75838 -2.121132 -1.109689\n",
       "2 -1.75838 -2.384785 -1.109689\n",
       "3 -1.75838 -2.343312 -1.109689\n",
       "4 -1.75838 -2.273997  2.043036"
      ]
     },
     "execution_count": 36,
     "metadata": {},
     "output_type": "execute_result"
    }
   ],
   "source": [
    "X_train_sc.head()"
   ]
  },
  {
   "cell_type": "code",
   "execution_count": 37,
   "id": "7a748f58",
   "metadata": {},
   "outputs": [
    {
     "data": {
      "text/html": [
       "<div>\n",
       "<style scoped>\n",
       "    .dataframe tbody tr th:only-of-type {\n",
       "        vertical-align: middle;\n",
       "    }\n",
       "\n",
       "    .dataframe tbody tr th {\n",
       "        vertical-align: top;\n",
       "    }\n",
       "\n",
       "    .dataframe thead th {\n",
       "        text-align: right;\n",
       "    }\n",
       "</style>\n",
       "<table border=\"1\" class=\"dataframe\">\n",
       "  <thead>\n",
       "    <tr style=\"text-align: right;\">\n",
       "      <th></th>\n",
       "      <th>pclass</th>\n",
       "      <th>age</th>\n",
       "      <th>parch</th>\n",
       "    </tr>\n",
       "  </thead>\n",
       "  <tbody>\n",
       "    <tr>\n",
       "      <th>count</th>\n",
       "      <td>712.00</td>\n",
       "      <td>712.00</td>\n",
       "      <td>712.00</td>\n",
       "    </tr>\n",
       "    <tr>\n",
       "      <th>mean</th>\n",
       "      <td>-2.73</td>\n",
       "      <td>-2.27</td>\n",
       "      <td>-0.49</td>\n",
       "    </tr>\n",
       "    <tr>\n",
       "      <th>std</th>\n",
       "      <td>1.19</td>\n",
       "      <td>0.08</td>\n",
       "      <td>1.26</td>\n",
       "    </tr>\n",
       "    <tr>\n",
       "      <th>min</th>\n",
       "      <td>-4.57</td>\n",
       "      <td>-2.45</td>\n",
       "      <td>-1.11</td>\n",
       "    </tr>\n",
       "    <tr>\n",
       "      <th>25%</th>\n",
       "      <td>-3.51</td>\n",
       "      <td>-2.32</td>\n",
       "      <td>-1.11</td>\n",
       "    </tr>\n",
       "    <tr>\n",
       "      <th>50%</th>\n",
       "      <td>-1.76</td>\n",
       "      <td>-2.27</td>\n",
       "      <td>-1.11</td>\n",
       "    </tr>\n",
       "    <tr>\n",
       "      <th>75%</th>\n",
       "      <td>-1.76</td>\n",
       "      <td>-2.24</td>\n",
       "      <td>-1.11</td>\n",
       "    </tr>\n",
       "    <tr>\n",
       "      <th>max</th>\n",
       "      <td>-1.76</td>\n",
       "      <td>-2.03</td>\n",
       "      <td>6.77</td>\n",
       "    </tr>\n",
       "  </tbody>\n",
       "</table>\n",
       "</div>"
      ],
      "text/plain": [
       "       pclass     age   parch\n",
       "count  712.00  712.00  712.00\n",
       "mean    -2.73   -2.27   -0.49\n",
       "std      1.19    0.08    1.26\n",
       "min     -4.57   -2.45   -1.11\n",
       "25%     -3.51   -2.32   -1.11\n",
       "50%     -1.76   -2.27   -1.11\n",
       "75%     -1.76   -2.24   -1.11\n",
       "max     -1.76   -2.03    6.77"
      ]
     },
     "execution_count": 37,
     "metadata": {},
     "output_type": "execute_result"
    }
   ],
   "source": [
    "X_train_sc.describe().round(2)"
   ]
  },
  {
   "cell_type": "code",
   "execution_count": 38,
   "id": "b5bc86ba",
   "metadata": {},
   "outputs": [
    {
     "data": {
      "text/plain": [
       "MinMaxScaler()"
      ]
     },
     "execution_count": 38,
     "metadata": {},
     "output_type": "execute_result"
    }
   ],
   "source": [
    "mmc = MinMaxScaler()\n",
    "mmc.fit(X_train)"
   ]
  },
  {
   "cell_type": "code",
   "execution_count": 39,
   "id": "df38f4bd",
   "metadata": {},
   "outputs": [],
   "source": [
    "X_train_mmc = mmc.transform(X_train)\n",
    "X_test_mmc = mmc.transform(X_test)"
   ]
  },
  {
   "cell_type": "code",
   "execution_count": 40,
   "id": "9049498e",
   "metadata": {},
   "outputs": [
    {
     "data": {
      "text/plain": [
       "array([[1.        , 0.33408898, 0.        ],\n",
       "       [1.        , 0.78039105, 0.        ],\n",
       "       [1.        , 0.14990082, 0.        ],\n",
       "       ...,\n",
       "       [1.        , 0.67412865, 0.6       ],\n",
       "       [1.        , 0.4148359 , 0.2       ],\n",
       "       [1.        , 0.39784642, 0.        ]])"
      ]
     },
     "execution_count": 40,
     "metadata": {},
     "output_type": "execute_result"
    }
   ],
   "source": [
    "X_train_mmc"
   ]
  },
  {
   "cell_type": "code",
   "execution_count": 41,
   "id": "8b55cae8",
   "metadata": {},
   "outputs": [],
   "source": [
    "X_train_mmc = pd.DataFrame(X_train_mmc, columns = [\"pclass\",'age','parch'])\n",
    "X_test_mmc =  pd.DataFrame(X_test_mmc, columns = [\"pclass\",'age','parch'])"
   ]
  },
  {
   "cell_type": "code",
   "execution_count": 42,
   "id": "2a6e0e50",
   "metadata": {},
   "outputs": [
    {
     "data": {
      "text/html": [
       "<div>\n",
       "<style scoped>\n",
       "    .dataframe tbody tr th:only-of-type {\n",
       "        vertical-align: middle;\n",
       "    }\n",
       "\n",
       "    .dataframe tbody tr th {\n",
       "        vertical-align: top;\n",
       "    }\n",
       "\n",
       "    .dataframe thead th {\n",
       "        text-align: right;\n",
       "    }\n",
       "</style>\n",
       "<table border=\"1\" class=\"dataframe\">\n",
       "  <thead>\n",
       "    <tr style=\"text-align: right;\">\n",
       "      <th></th>\n",
       "      <th>pclass</th>\n",
       "      <th>age</th>\n",
       "      <th>parch</th>\n",
       "    </tr>\n",
       "  </thead>\n",
       "  <tbody>\n",
       "    <tr>\n",
       "      <th>count</th>\n",
       "      <td>712.00</td>\n",
       "      <td>712.00</td>\n",
       "      <td>712.00</td>\n",
       "    </tr>\n",
       "    <tr>\n",
       "      <th>mean</th>\n",
       "      <td>0.65</td>\n",
       "      <td>0.41</td>\n",
       "      <td>0.08</td>\n",
       "    </tr>\n",
       "    <tr>\n",
       "      <th>std</th>\n",
       "      <td>0.42</td>\n",
       "      <td>0.18</td>\n",
       "      <td>0.16</td>\n",
       "    </tr>\n",
       "    <tr>\n",
       "      <th>min</th>\n",
       "      <td>0.00</td>\n",
       "      <td>0.00</td>\n",
       "      <td>0.00</td>\n",
       "    </tr>\n",
       "    <tr>\n",
       "      <th>25%</th>\n",
       "      <td>0.38</td>\n",
       "      <td>0.31</td>\n",
       "      <td>0.00</td>\n",
       "    </tr>\n",
       "    <tr>\n",
       "      <th>50%</th>\n",
       "      <td>1.00</td>\n",
       "      <td>0.41</td>\n",
       "      <td>0.00</td>\n",
       "    </tr>\n",
       "    <tr>\n",
       "      <th>75%</th>\n",
       "      <td>1.00</td>\n",
       "      <td>0.49</td>\n",
       "      <td>0.00</td>\n",
       "    </tr>\n",
       "    <tr>\n",
       "      <th>max</th>\n",
       "      <td>1.00</td>\n",
       "      <td>1.00</td>\n",
       "      <td>1.00</td>\n",
       "    </tr>\n",
       "  </tbody>\n",
       "</table>\n",
       "</div>"
      ],
      "text/plain": [
       "       pclass     age   parch\n",
       "count  712.00  712.00  712.00\n",
       "mean     0.65    0.41    0.08\n",
       "std      0.42    0.18    0.16\n",
       "min      0.00    0.00    0.00\n",
       "25%      0.38    0.31    0.00\n",
       "50%      1.00    0.41    0.00\n",
       "75%      1.00    0.49    0.00\n",
       "max      1.00    1.00    1.00"
      ]
     },
     "execution_count": 42,
     "metadata": {},
     "output_type": "execute_result"
    }
   ],
   "source": [
    "X_train_mmc.describe().round(2)"
   ]
  },
  {
   "cell_type": "code",
   "execution_count": 44,
   "id": "4a31176d",
   "metadata": {},
   "outputs": [
    {
     "data": {
      "text/plain": [
       "<seaborn.axisgrid.PairGrid at 0x1d36cbcf640>"
      ]
     },
     "execution_count": 44,
     "metadata": {},
     "output_type": "execute_result"
    },
    {
     "data": {
      "image/png": "[encoded data removed]",
      "text/plain": [
       "<Figure size 540x540 with 12 Axes>"
      ]
     },
     "metadata": {
      "needs_background": "light"
     },
     "output_type": "display_data"
    }
   ],
   "source": [
    "sns.pairplot(X_train_sc)"
   ]
  },
  {
   "cell_type": "code",
   "execution_count": 45,
   "id": "d75dd25d",
   "metadata": {},
   "outputs": [
    {
     "data": {
      "text/plain": [
       "<seaborn.axisgrid.PairGrid at 0x1d36d141790>"
      ]
     },
     "execution_count": 45,
     "metadata": {},
     "output_type": "execute_result"
    },
    {
     "data": {
      "image/png": "[encoded data removed]",
      "text/plain": [
       "<Figure size 540x540 with 12 Axes>"
      ]
     },
     "metadata": {
      "needs_background": "light"
     },
     "output_type": "display_data"
    }
   ],
   "source": [
    "sns.pairplot(X_train_mmc)"
   ]
  },
  {
   "cell_type": "code",
   "execution_count": 47,
   "id": "28deeb2e",
   "metadata": {},
   "outputs": [
    {
     "data": {
      "text/plain": [
       "<seaborn.axisgrid.PairGrid at 0x1d36d8da4c0>"
      ]
     },
     "execution_count": 47,
     "metadata": {},
     "output_type": "execute_result"
    },
    {
     "data": {
      "image/png": "[encoded data removed]",
      "text/plain": [
       "<Figure size 540x540 with 12 Axes>"
      ]
     },
     "metadata": {
      "needs_background": "light"
     },
     "output_type": "display_data"
    }
   ],
   "source": [
    "sns.pairplot(X)"
   ]
  },
  {
   "cell_type": "code",
   "execution_count": null,
   "id": "b27c1e63",
   "metadata": {},
   "outputs": [],
   "source": []
  }
 ],
 "metadata": {
  "kernelspec": {
   "display_name": "Python 3 (ipykernel)",
   "language": "python",
   "name": "python3"
  },
  "language_info": {
   "codemirror_mode": {
    "name": "ipython",
    "version": 3
   },
   "file_extension": ".py",
   "mimetype": "text/x-python",
   "name": "python",
   "nbconvert_exporter": "python",
   "pygments_lexer": "ipython3",
   "version": "3.9.12"
  }
 },
 "nbformat": 4,
 "nbformat_minor": 5
}
