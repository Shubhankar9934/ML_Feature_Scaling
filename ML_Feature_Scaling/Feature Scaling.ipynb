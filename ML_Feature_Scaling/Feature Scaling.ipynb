{
 "cells": [
  {
   "cell_type": "markdown",
   "id": "4531d6cc",
   "metadata": {},
   "source": [
    "# What is Feature Scaling?"
   ]
  },
  {
   "cell_type": "raw",
   "id": "84c4b960",
   "metadata": {},
   "source": [
    "Feature Scaling is a method to scale numeric feaature in the same \n",
    "scale or range(like:- -1 to 1 , 0 to 1)"
   ]
  },
  {
   "cell_type": "raw",
   "id": "aba502d6",
   "metadata": {},
   "source": [
    "* This last step involved in Data Preprocessing and before ML model training.\n",
    "* It is also called as data normalization .\n",
    "* We apply Feature Scaling On Independent Variables.\n",
    "* We fit feature scaling with train data and transform on train and test data."
   ]
  },
  {
   "cell_type": "markdown",
   "id": "63017fbb",
   "metadata": {},
   "source": [
    "# Why Feature Scaling ?"
   ]
  },
  {
   "cell_type": "raw",
   "id": "0bc5ba22",
   "metadata": {},
   "source": [
    "* The scale of raw feature is differnt according to its units.\n",
    "* Machine Learning algorithms can't understand features , units , \n",
    "understand only numbers."
   ]
  },
  {
   "cell_type": "markdown",
   "id": "1d97f012",
   "metadata": {},
   "source": [
    "# Which ML Algorithms Required Feature Scaling ?"
   ]
  },
  {
   "cell_type": "raw",
   "id": "0b428581",
   "metadata": {},
   "source": [
    "* Those Algorithms Calculate Distance \n",
    " * K - Nearest Neighbors (KNN).\n",
    " * K-Means.\n",
    " * Support Vector Machine (SVM).\n",
    " * Principal Component Analysis(PCA).\n",
    " * Linear Discriminant Analysis."
   ]
  },
  {
   "cell_type": "raw",
   "id": "e7871043",
   "metadata": {},
   "source": [
    "Gradient Descent Based Algorithms\n",
    " * Linear Regression \n",
    " * Logistic Regression\n",
    " * Neural Networks"
   ]
  },
  {
   "cell_type": "markdown",
   "id": "3c94ffcc",
   "metadata": {},
   "source": [
    "# Which ML Algorithms does't Required Feature Scaling ?\n"
   ]
  },
  {
   "cell_type": "raw",
   "id": "96003888",
   "metadata": {},
   "source": [
    "Tree Based Algorithms Not required  Feature Scaling.\n",
    " * Decision Tree ,\n",
    " * Random Forest ,\n",
    " * XgBoost(Extreme Gradient Boost)\n",
    " "
   ]
  },
  {
   "cell_type": "markdown",
   "id": "dacc2712",
   "metadata": {},
   "source": [
    "# Types Of Feature Scaling ?"
   ]
  },
  {
   "cell_type": "raw",
   "id": "8c4571b2",
   "metadata": {},
   "source": [
    "* Min Max Scaler\n",
    "* Standard Scaler\n",
    "* Max Abs Scaler\n",
    "* Robust Scaler\n",
    "* Quantile Transformer Scaler\n",
    "* Power Transformer Scaler\n",
    "* unit Vector Scalor"
   ]
  },
  {
   "cell_type": "code",
   "execution_count": null,
   "id": "d44b469d",
   "metadata": {},
   "outputs": [],
   "source": []
  }
 ],
 "metadata": {
  "kernelspec": {
   "display_name": "Python 3 (ipykernel)",
   "language": "python",
   "name": "python3"
  },
  "language_info": {
   "codemirror_mode": {
    "name": "ipython",
    "version": 3
   },
   "file_extension": ".py",
   "mimetype": "text/x-python",
   "name": "python",
   "nbconvert_exporter": "python",
   "pygments_lexer": "ipython3",
   "version": "3.9.12"
  }
 },
 "nbformat": 4,
 "nbformat_minor": 5
}
